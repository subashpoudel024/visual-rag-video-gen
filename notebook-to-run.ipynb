{
 "cells": [
  {
   "cell_type": "code",
   "execution_count": null,
   "metadata": {},
   "outputs": [],
   "source": [
    "!pip install gradio\n",
    "!pip install torch torchvision torchaudio  # Install PyTorch and related packages\n",
    "!pip install clip-by-openai               # Install the CLIP model from OpenAI\n",
    "!pip install faiss-cpu                   # Install FAISS (CPU version)\n",
    "!pip install numpy                       # Install NumPy\n",
    "!pip install Pillow                      # Install Pillow (PIL fork)\n",
    "!pip install scikit-learn                # Install scikit-learn for normalization\n",
    "!pip install tqdm"
   ]
  },
  {
   "cell_type": "code",
   "execution_count": null,
   "metadata": {},
   "outputs": [],
   "source": [
    "import kagglehub\n",
    "\n",
    "# Download latest version\n",
    "path = kagglehub.dataset_download(\"ifigotin/imagenetmini-1000\")\n",
    "\n",
    "print(\"Path to dataset files:\",path)"
   ]
  },
  {
   "cell_type": "code",
   "execution_count": null,
   "metadata": {},
   "outputs": [],
   "source": [
    "!pip install git+https://github.com/openai/CLIP.git\n"
   ]
  },
  {
   "cell_type": "code",
   "execution_count": null,
   "metadata": {},
   "outputs": [],
   "source": [
    "!python /content/app.py "
   ]
  }
 ],
 "metadata": {
  "language_info": {
   "name": "python"
  }
 },
 "nbformat": 4,
 "nbformat_minor": 2
}
